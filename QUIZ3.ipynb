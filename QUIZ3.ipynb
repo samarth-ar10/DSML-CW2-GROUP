{
 "cells": [
  {
   "cell_type": "code",
   "execution_count": null,
   "metadata": {},
   "outputs": [],
   "source": [
    "!pip install pyclustering\n",
    "!pip install yellowbrick\n",
    "!pip install graphviz"
   ]
  },
  {
   "cell_type": "code",
   "execution_count": 4,
   "metadata": {},
   "outputs": [
    {
     "name": "stdout",
     "output_type": "stream",
     "text": [
      "Index(['class', 'alcohol', 'malic_acid', 'ash', 'alcalinity_of_ash',\n",
      "       'magnesium', 'total_phenols', 'flavanoids', 'nonflavanoid_phenols',\n",
      "       'proanthocyanins', 'color_intensity', 'hue', 'OD280/OD315', 'proline'],\n",
      "      dtype='object')\n",
      "Index(['bill_length_mm', 'bill_depth_mm', 'flipper_length_mm', 'body_mass_g',\n",
      "       'species'],\n",
      "      dtype='object')\n"
     ]
    }
   ],
   "source": [
    "import matplotlib.pyplot as plt\n",
    "import pandas as pd\n",
    "import numpy as np\n",
    "import seaborn as sns\n",
    "\n",
    "from sklearn.linear_model import LinearRegression\n",
    "from sklearn.model_selection import train_test_split\n",
    "from sklearn import tree\n",
    "from sklearn.tree import DecisionTreeClassifier, export_graphviz\n",
    "from sklearn.tree import DecisionTreeClassifier, plot_tree\n",
    "from sklearn.metrics import confusion_matrix\n",
    "\n",
    "from sklearn.preprocessing import StandardScaler\n",
    "from sklearn.neighbors import KNeighborsClassifier\n",
    "from sklearn.metrics import accuracy_score, precision_score, recall_score, confusion_matrix\n",
    "from sklearn.metrics import precision_score, recall_score, confusion_matrix, roc_curve, auc, mean_squared_error\n",
    "from sklearn.svm import SVC\n",
    "\n",
    "from sklearn.ensemble import RandomForestClassifier\n",
    "from sklearn.model_selection import cross_val_score\n",
    "from sklearn.model_selection import StratifiedKFold, cross_val_predict\n",
    "from sklearn.neural_network import MLPClassifier\n",
    "from sklearn.linear_model import LinearRegression\n",
    "\n",
    "# from sklearn.datasets import load_breast_cancer\n",
    "\n",
    "import graphviz\n",
    "\n",
    "\n",
    "df_wine = pd.read_csv('wine.csv')\n",
    "df_wine.head()\n",
    "\n",
    "df_penguins = pd.read_csv('penguins_modfeats_CLEAN.csv')\n",
    "df_penguins.head()\n",
    "# get column names\n",
    "\n",
    "print(df_wine.columns)\n",
    "print(df_penguins.columns)"
   ]
  },
  {
   "cell_type": "code",
   "execution_count": 3,
   "metadata": {},
   "outputs": [
    {
     "data": {
      "text/plain": [
       "'\\n\\nTopics covered till lab 7\\nread Excel file: pd.read_excel()<br>\\nread CSV file: pd.read_csv()<br>\\nrename columns: df.rename()<br>\\nunique values from a column: df.unique()<br>\\nduplicated rows: df.duplicated()<br>\\ndrop duplicated rows: df.drop_duplicates()<br>\\nquantile / percentile: df.quantile()<br>\\nrows with NaN: df.isna()<br>\\ndrop rows with NaN: df.dropna()<br>\\ndetermine the bin: pd.cut  \\nassign numerical values to different categorical data: pd.get_dummies<br>\\ndetermine data type: df.dtypes<br>\\nplot regression plot: sns.regplot<br>\\ncalculate Pearson correlation: stats.pearsonr<br>\\n\\nIn our previous labs, the main target was to find the most meaningful features for predicting the car price. In lab 7 we will try to develop different models to predict the car price using those meaningful features. The developed model will help us to understand how these variables are used to predict the result(car price) in our case.<br> The possible meaning features in car price prediction dataset are:<br>\\n\\n\\nDetails about the dataset: wine.csv\\n\\n- Type of wine: 3 classes (1/2/3)\\n- Alcohol: a positive numerical valuebetween 0 and 100.\\n- Malic acid: positive numerical value.\\n- Ash: positive numerical value.\\n- Alcalinity of ash: positive numerical value.\\n- Magnesium: positive numerical value.\\n- Total phenols: positive numerical value.\\n- Flavanoids: positive numerical value.\\n- Nonflavanoid phenols: positive numerical value.\\n- Proanthocyanins: positive numerical value.\\n- Color intensity: positive numerical value.\\n- Hue: positive numerical value.\\n- OD280/OD315 of diluted wines: positive numerical value.\\n- Proline: positive numerical value.       \\n\\nDetails about the dataset: penguins_modfeats_CLEAN.csv\\n\\n- This is a modified and cleaned version of the Palmers Penguin Dataset.\\n\\n'"
      ]
     },
     "execution_count": 3,
     "metadata": {},
     "output_type": "execute_result"
    }
   ],
   "source": [
    "'''\n",
    "\n",
    "Topics covered till lab 7\n",
    "read Excel file: pd.read_excel()<br>\n",
    "read CSV file: pd.read_csv()<br>\n",
    "rename columns: df.rename()<br>\n",
    "unique values from a column: df.unique()<br>\n",
    "duplicated rows: df.duplicated()<br>\n",
    "drop duplicated rows: df.drop_duplicates()<br>\n",
    "quantile / percentile: df.quantile()<br>\n",
    "rows with NaN: df.isna()<br>\n",
    "drop rows with NaN: df.dropna()<br>\n",
    "determine the bin: pd.cut  \n",
    "assign numerical values to different categorical data: pd.get_dummies<br>\n",
    "determine data type: df.dtypes<br>\n",
    "plot regression plot: sns.regplot<br>\n",
    "calculate Pearson correlation: stats.pearsonr<br>\n",
    "\n",
    "In our previous labs, the main target was to find the most meaningful features for predicting the car price. In lab 7 we will try to develop different models to predict the car price using those meaningful features. The developed model will help us to understand how these variables are used to predict the result(car price) in our case.<br> The possible meaning features in car price prediction dataset are:<br>\n",
    "\n",
    "\n",
    "Details about the dataset: wine.csv\n",
    "\n",
    "- Type of wine: 3 classes (1/2/3)\n",
    "- Alcohol: a positive numerical valuebetween 0 and 100.\n",
    "- Malic acid: positive numerical value.\n",
    "- Ash: positive numerical value.\n",
    "- Alcalinity of ash: positive numerical value.\n",
    "- Magnesium: positive numerical value.\n",
    "- Total phenols: positive numerical value.\n",
    "- Flavanoids: positive numerical value.\n",
    "- Nonflavanoid phenols: positive numerical value.\n",
    "- Proanthocyanins: positive numerical value.\n",
    "- Color intensity: positive numerical value.\n",
    "- Hue: positive numerical value.\n",
    "- OD280/OD315 of diluted wines: positive numerical value.\n",
    "- Proline: positive numerical value.       \n",
    "\n",
    "Details about the dataset: penguins_modfeats_CLEAN.csv\n",
    "\n",
    "- This is a modified and cleaned version of the Palmers Penguin Dataset.\n",
    "\n",
    "'''"
   ]
  },
  {
   "cell_type": "code",
   "execution_count": 14,
   "metadata": {},
   "outputs": [],
   "source": [
    "# Q1\n",
    "\n",
    "df_wine = df_wine.dropna()\n",
    "\n",
    "df_wine = df_wine[(df_wine['alcohol'] >= 0) & (df_wine['alcohol'] <= 100)]\n",
    "df_wine = df_wine[(df_wine['malic_acid'] >= 0)]\n",
    "df_wine = df_wine[(df_wine['ash'] >= 0)]\n",
    "df_wine = df_wine[(df_wine['alcalinity_of_ash'] >= 0)]\n",
    "df_wine = df_wine[(df_wine['magnesium'] >= 0)]\n",
    "df_wine = df_wine[(df_wine['total_phenols'] >= 0)]\n",
    "df_wine = df_wine[(df_wine['flavanoids'] >= 0)]\n",
    "df_wine = df_wine[(df_wine['nonflavanoid_phenols'] >= 0)]\n",
    "df_wine = df_wine[(df_wine['proanthocyanins'] >= 0)]\n",
    "df_wine = df_wine[(df_wine['color_intensity'] >= 0)]\n",
    "df_wine = df_wine[(df_wine['hue'] >= 0)]\n",
    "df_wine = df_wine[(df_wine['OD280/OD315'] >= 0)]\n",
    "df_wine = df_wine[(df_wine['proline'] >= 0)]\n",
    "\n"
   ]
  },
  {
   "cell_type": "code",
   "execution_count": 15,
   "metadata": {},
   "outputs": [
    {
     "name": "stdout",
     "output_type": "stream",
     "text": [
      "Moderate negative: No\n",
      "Moderate positive: No\n",
      "Strong positive: No\n",
      "Weak negative: Yes\n",
      "Weak positive: No\n",
      "Moderate positive: Yes\n"
     ]
    }
   ],
   "source": [
    "correlation = df_wine['alcohol'].corr(df_wine['magnesium'])\n",
    "print(\"Moderate negative: Yes\" if -0.5 < correlation < -0.3 else \"Moderate negative: No\")\n",
    "\n",
    "correlation = df_wine['flavanoids'].corr(df_wine['hue'])\n",
    "print(\"Moderate positive: Yes\" if 0.3 < correlation < 0.5 else \"Moderate positive: No\")\n",
    "\n",
    "correlation = df_wine['alcohol'].corr(df_wine['magnesium'])\n",
    "print(\"Strong positive: Yes\" if correlation > 0.5 else \"Strong positive: No\")\n",
    "\n",
    "correlation = df_wine['flavanoids'].corr(df_wine['alcohol'])\n",
    "print(\"Weak negative: Yes\" if 0 < correlation < 0.3 else \"Weak negative: No\")\n",
    "\n",
    "correlation = df_wine['flavanoids'].corr(df_wine['hue'])\n",
    "print(\"Weak positive: Yes\" if 0 < correlation < 0.3 else \"Weak positive: No\")\n",
    "\n",
    "correlation = df_wine['alcohol'].corr(df_wine['magnesium'])\n",
    "print(\"Moderate positive: Yes\" if 0.3 < correlation < 0.5 else \"Moderate positive: No\")\n"
   ]
  },
  {
   "cell_type": "code",
   "execution_count": 16,
   "metadata": {},
   "outputs": [
    {
     "data": {
      "image/png": "[encoded data removed]",
      "text/plain": [
       "<Figure size 640x480 with 1 Axes>"
      ]
     },
     "metadata": {},
     "output_type": "display_data"
    },
    {
     "name": "stdout",
     "output_type": "stream",
     "text": [
      "Optimal K: 3\n"
     ]
    }
   ],
   "source": [
    "# Q2\n",
    "df_penguins = pd.read_csv('penguins_modfeats_CLEAN.csv')\n",
    "df_penguins = df_penguins.dropna()\n",
    "\n",
    "X = df_penguins[['bill_length_mm', 'bill_depth_mm', 'flipper_length_mm', 'body_mass_g']]\n",
    "y = df_penguins['species']\n",
    "\n",
    "X_train, X_test, y_train, y_test = train_test_split(X, y, test_size=0.3, random_state=42)\n",
    "\n",
    "k_values = range(2, 11)\n",
    "accuracies = []\n",
    "\n",
    "for k in k_values:\n",
    "    knn = KNeighborsClassifier(n_neighbors=k)\n",
    "    knn.fit(X_train, y_train)\n",
    "    y_pred = knn.predict(X_test)\n",
    "    accuracies.append(accuracy_score(y_test, y_pred))\n",
    "\n",
    "plt.plot(k_values, accuracies)\n",
    "plt.xlabel('K')\n",
    "plt.ylabel('Accuracy')\n",
    "plt.title('Accuracy vs K')\n",
    "plt.show()\n",
    "\n",
    "print(\"Optimal K:\", k_values[np.argmax(accuracies)])\n"
   ]
  },
  {
   "cell_type": "code",
   "execution_count": 18,
   "metadata": {},
   "outputs": [
    {
     "name": "stdout",
     "output_type": "stream",
     "text": [
      "Predicted species: Chinstrap\n"
     ]
    },
    {
     "name": "stderr",
     "output_type": "stream",
     "text": [
      "C:\\Users\\samar\\AppData\\Local\\Packages\\PythonSoftwareFoundation.Python.3.11_qbz5n2kfra8p0\\LocalCache\\local-packages\\Python311\\site-packages\\sklearn\\base.py:465: UserWarning: X does not have valid feature names, but DecisionTreeClassifier was fitted with feature names\n",
      "  warnings.warn(\n"
     ]
    }
   ],
   "source": [
    "# Q3\n",
    "df_penguins = pd.read_csv('penguins_modfeats_CLEAN.csv')\n",
    "df_penguins = df_penguins.dropna()\n",
    "\n",
    "X = df_penguins[['bill_length_mm', 'bill_depth_mm', 'flipper_length_mm', 'body_mass_g']]\n",
    "y = df_penguins['species']\n",
    "\n",
    "X_train, X_test, y_train, y_test = train_test_split(X, y, test_size=0.4, random_state=42)\n",
    "\n",
    "dt = DecisionTreeClassifier(random_state=42)\n",
    "dt.fit(X_train, y_train)\n",
    "\n",
    "body_measurements = [[50.6, 16.6, 193, 4050]]\n",
    "species = dt.predict(body_measurements)\n",
    "\n",
    "print(\"Predicted species:\", species[0])\n"
   ]
  },
  {
   "cell_type": "code",
   "execution_count": 19,
   "metadata": {},
   "outputs": [
    {
     "name": "stdout",
     "output_type": "stream",
     "text": [
      "Linear: 0.9777777777777777\n",
      "Sigmoid: 0.8666666666666667\n",
      "RBF: 1.0\n",
      "Worst: Sigmoid\n"
     ]
    }
   ],
   "source": [
    "# Q5\n",
    "from sklearn import datasets\n",
    "from sklearn.preprocessing import StandardScaler\n",
    "from sklearn.model_selection import train_test_split\n",
    "from sklearn.svm import SVC\n",
    "from sklearn.metrics import accuracy_score\n",
    "\n",
    "iris = datasets.load_iris()\n",
    "X = iris.data\n",
    "y = iris.target\n",
    "\n",
    "scaler = StandardScaler()\n",
    "X = scaler.fit_transform(X)\n",
    "\n",
    "X_train, X_test, y_train, y_test = train_test_split(X, y, test_size=0.3, random_state=42)\n",
    "\n",
    "svm_linear = SVC(kernel='linear')\n",
    "svm_linear.fit(X_train, y_train)\n",
    "accuracy_linear = accuracy_score(y_test, svm_linear.predict(X_test))\n",
    "\n",
    "svm_sigmoid = SVC(kernel='sigmoid')\n",
    "svm_sigmoid.fit(X_train, y_train)\n",
    "accuracy_sigmoid = accuracy_score(y_test, svm_sigmoid.predict(X_test))\n",
    "\n",
    "svm_rbf = SVC(kernel='rbf')\n",
    "svm_rbf.fit(X_train, y_train)\n",
    "accuracy_rbf = accuracy_score(y_test, svm_rbf.predict(X_test))\n",
    "\n",
    "print(\"Linear:\", accuracy_linear)\n",
    "print(\"Sigmoid:\", accuracy_sigmoid)\n",
    "print(\"RBF:\", accuracy_rbf)\n",
    "\n",
    "if accuracy_linear < accuracy_sigmoid and accuracy_linear < accuracy_rbf:\n",
    "    print(\"Worst: Linear\")\n",
    "elif accuracy_sigmoid < accuracy_linear and accuracy_sigmoid < accuracy_rbf:\n",
    "    print(\"Worst: Sigmoid\")\n",
    "else:\n",
    "    print(\"Worst: RBF\")\n"
   ]
  }
 ],
 "metadata": {
  "kernelspec": {
   "display_name": "Python 3",
   "language": "python",
   "name": "python3"
  },
  "language_info": {
   "codemirror_mode": {
    "name": "ipython",
    "version": 3
   },
   "file_extension": ".py",
   "mimetype": "text/x-python",
   "name": "python",
   "nbconvert_exporter": "python",
   "pygments_lexer": "ipython3",
   "version": "3.11.8"
  }
 },
 "nbformat": 4,
 "nbformat_minor": 2
}
